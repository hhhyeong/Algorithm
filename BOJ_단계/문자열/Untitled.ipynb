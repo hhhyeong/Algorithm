{
 "cells": [
  {
   "cell_type": "code",
   "execution_count": 12,
   "id": "034c7682",
   "metadata": {},
   "outputs": [
    {
     "name": "stdout",
     "output_type": "stream",
     "text": [
      "2\n"
     ]
    }
   ],
   "source": [
    "T = int(input())"
   ]
  },
  {
   "cell_type": "code",
   "execution_count": 13,
   "id": "874844fe",
   "metadata": {},
   "outputs": [
    {
     "name": "stdout",
     "output_type": "stream",
     "text": [
      "5 /HTP\n",
      "/////HHHHHTTTTTPPPPP3 ABC\n",
      "AAABBBCCC"
     ]
    }
   ],
   "source": [
    "for k in range(T):\n",
    "    R, S = input().split()\n",
    "    for i in S:\n",
    "        print(i*int(R), end='')"
   ]
  },
  {
   "cell_type": "code",
   "execution_count": null,
   "id": "5546f81e",
   "metadata": {},
   "outputs": [],
   "source": []
  }
 ],
 "metadata": {
  "kernelspec": {
   "display_name": "Python 3 (ipykernel)",
   "language": "python",
   "name": "python3"
  },
  "language_info": {
   "codemirror_mode": {
    "name": "ipython",
    "version": 3
   },
   "file_extension": ".py",
   "mimetype": "text/x-python",
   "name": "python",
   "nbconvert_exporter": "python",
   "pygments_lexer": "ipython3",
   "version": "3.9.1"
  }
 },
 "nbformat": 4,
 "nbformat_minor": 5
}
